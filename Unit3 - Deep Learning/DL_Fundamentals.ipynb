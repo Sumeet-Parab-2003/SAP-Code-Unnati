{
  "nbformat": 4,
  "nbformat_minor": 0,
  "metadata": {
    "colab": {
      "provenance": []
    },
    "kernelspec": {
      "name": "python3",
      "display_name": "Python 3"
    },
    "language_info": {
      "name": "python"
    }
  },
  "cells": [
    {
      "cell_type": "code",
      "execution_count": null,
      "metadata": {
        "id": "RIvzJeG-LPoK"
      },
      "outputs": [],
      "source": [
        "import tensorflow as keras\n",
        "import numpy as np\n",
        "import pandas as pd\n",
        "from tensorflow.keras.models import Sequential\n",
        "from tensorflow.keras.layers import Dense\n",
        "from numpy import loadtxt"
      ]
    },
    {
      "cell_type": "code",
      "source": [
        "df = loadtxt('/content/pima-indians-diabetes.csv', delimiter=',')"
      ],
      "metadata": {
        "id": "MmtQgoo-Lc8X"
      },
      "execution_count": null,
      "outputs": []
    },
    {
      "cell_type": "code",
      "source": [
        "# split into input (X) and output (y) variables\n",
        "X = df[:,0:8]\n",
        "y = df[:,8]"
      ],
      "metadata": {
        "id": "ZO-_wRVhMAfc"
      },
      "execution_count": null,
      "outputs": []
    },
    {
      "cell_type": "code",
      "source": [
        "# define the keras model\n",
        "model = Sequential()\n",
        "model.add(Dense(8, input_dim = 8, activation = 'relu'))\n",
        "model.add(Dense(8, activation = 'relu' ))\n",
        "model.add(Dense(1, activation='sigmoid'))"
      ],
      "metadata": {
        "id": "NZh5uYfzNxNH"
      },
      "execution_count": null,
      "outputs": []
    },
    {
      "cell_type": "code",
      "source": [
        "# compile the keras model\n",
        "model.compile(loss='binary_crossentropy', optimizer='adam',metrics=['accuracy'])"
      ],
      "metadata": {
        "id": "WWladMQITBkK"
      },
      "execution_count": null,
      "outputs": []
    },
    {
      "cell_type": "code",
      "source": [
        "# fit the keras model on the dataset\n",
        "model.fit(X, y, epochs=30, batch_size=5)"
      ],
      "metadata": {
        "colab": {
          "base_uri": "https://localhost:8080/"
        },
        "id": "0WqnzfHyTqJA",
        "outputId": "68d73408-8ed7-498c-9efc-4875fa503e65"
      },
      "execution_count": null,
      "outputs": [
        {
          "output_type": "stream",
          "name": "stdout",
          "text": [
            "Epoch 1/30\n",
            "154/154 [==============================] - 1s 1ms/step - loss: 6.7362 - accuracy: 0.4753\n",
            "Epoch 2/30\n",
            "154/154 [==============================] - 0s 1ms/step - loss: 0.7410 - accuracy: 0.6250\n",
            "Epoch 3/30\n",
            "154/154 [==============================] - 0s 1ms/step - loss: 0.6520 - accuracy: 0.6484\n",
            "Epoch 4/30\n",
            "154/154 [==============================] - 0s 1ms/step - loss: 0.6359 - accuracy: 0.6510\n",
            "Epoch 5/30\n",
            "154/154 [==============================] - 0s 1ms/step - loss: 0.6256 - accuracy: 0.6549\n",
            "Epoch 6/30\n",
            "154/154 [==============================] - 0s 1ms/step - loss: 0.6176 - accuracy: 0.6615\n",
            "Epoch 7/30\n",
            "154/154 [==============================] - 0s 1ms/step - loss: 0.6140 - accuracy: 0.6641\n",
            "Epoch 8/30\n",
            "154/154 [==============================] - 0s 1ms/step - loss: 0.6101 - accuracy: 0.6667\n",
            "Epoch 9/30\n",
            "154/154 [==============================] - 0s 1ms/step - loss: 0.6084 - accuracy: 0.6693\n",
            "Epoch 10/30\n",
            "154/154 [==============================] - 0s 1ms/step - loss: 0.6099 - accuracy: 0.6693\n",
            "Epoch 11/30\n",
            "154/154 [==============================] - 0s 1ms/step - loss: 0.6073 - accuracy: 0.6732\n",
            "Epoch 12/30\n",
            "154/154 [==============================] - 0s 1ms/step - loss: 0.6088 - accuracy: 0.6706\n",
            "Epoch 13/30\n",
            "154/154 [==============================] - 0s 1ms/step - loss: 0.6049 - accuracy: 0.6719\n",
            "Epoch 14/30\n",
            "154/154 [==============================] - 0s 1ms/step - loss: 0.6060 - accuracy: 0.6771\n",
            "Epoch 15/30\n",
            "154/154 [==============================] - 0s 2ms/step - loss: 0.6020 - accuracy: 0.6732\n",
            "Epoch 16/30\n",
            "154/154 [==============================] - 0s 2ms/step - loss: 0.6003 - accuracy: 0.6732\n",
            "Epoch 17/30\n",
            "154/154 [==============================] - 0s 2ms/step - loss: 0.5992 - accuracy: 0.6771\n",
            "Epoch 18/30\n",
            "154/154 [==============================] - 0s 2ms/step - loss: 0.6001 - accuracy: 0.6836\n",
            "Epoch 19/30\n",
            "154/154 [==============================] - 0s 2ms/step - loss: 0.5956 - accuracy: 0.6745\n",
            "Epoch 20/30\n",
            "154/154 [==============================] - 0s 2ms/step - loss: 0.6005 - accuracy: 0.6732\n",
            "Epoch 21/30\n",
            "154/154 [==============================] - 0s 2ms/step - loss: 0.5948 - accuracy: 0.6771\n",
            "Epoch 22/30\n",
            "154/154 [==============================] - 0s 1ms/step - loss: 0.5959 - accuracy: 0.6784\n",
            "Epoch 23/30\n",
            "154/154 [==============================] - 0s 1ms/step - loss: 0.5983 - accuracy: 0.6849\n",
            "Epoch 24/30\n",
            "154/154 [==============================] - 0s 1ms/step - loss: 0.5942 - accuracy: 0.6706\n",
            "Epoch 25/30\n",
            "154/154 [==============================] - 0s 1ms/step - loss: 0.5939 - accuracy: 0.6732\n",
            "Epoch 26/30\n",
            "154/154 [==============================] - 0s 1ms/step - loss: 0.5916 - accuracy: 0.6719\n",
            "Epoch 27/30\n",
            "154/154 [==============================] - 0s 1ms/step - loss: 0.5940 - accuracy: 0.6823\n",
            "Epoch 28/30\n",
            "154/154 [==============================] - 0s 1ms/step - loss: 0.5915 - accuracy: 0.6810\n",
            "Epoch 29/30\n",
            "154/154 [==============================] - 0s 1ms/step - loss: 0.5945 - accuracy: 0.6758\n",
            "Epoch 30/30\n",
            "154/154 [==============================] - 0s 1ms/step - loss: 0.5850 - accuracy: 0.6797\n"
          ]
        },
        {
          "output_type": "execute_result",
          "data": {
            "text/plain": [
              "<keras.src.callbacks.History at 0x7c7f1daf5e70>"
            ]
          },
          "metadata": {},
          "execution_count": 32
        }
      ]
    },
    {
      "cell_type": "code",
      "source": [
        "# evaluate the keras model\n",
        "_, accuracy = model.evaluate(X,y)\n",
        "print(\"Accuracy: %.2f\"%(accuracy*100))"
      ],
      "metadata": {
        "colab": {
          "base_uri": "https://localhost:8080/"
        },
        "id": "zQK1L7VaUWW-",
        "outputId": "365fcf69-1e2c-4a57-a019-d96897d9f0d3"
      },
      "execution_count": null,
      "outputs": [
        {
          "output_type": "stream",
          "name": "stdout",
          "text": [
            "24/24 [==============================] - 0s 1ms/step - loss: 0.5845 - accuracy: 0.6849\n",
            "Accuracy: 68.49\n"
          ]
        }
      ]
    },
    {
      "cell_type": "code",
      "source": [],
      "metadata": {
        "id": "z43ONphoVY7d"
      },
      "execution_count": null,
      "outputs": []
    }
  ]
}